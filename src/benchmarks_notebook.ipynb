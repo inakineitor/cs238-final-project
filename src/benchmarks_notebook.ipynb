{
 "cells": [
  {
   "cell_type": "code",
   "execution_count": 2,
   "metadata": {},
   "outputs": [],
   "source": [
    "from pathlib import Path\n",
    "from rich.console import Console\n",
    "from rich.tree import Tree\n",
    "from rich.table import Table\n",
    "import pickle\n",
    "import random"
   ]
  },
  {
   "cell_type": "code",
   "execution_count": 3,
   "metadata": {},
   "outputs": [],
   "source": [
    "from map_analyzer.benchmark_framework.benchmark_orchestrator_rhea import (\n",
    "    BenchmarkOrchestrator,\n",
    "    BenchmarkOrchestratorResults,\n",
    "    ModelConstraints\n",
    ")\n",
    "\n",
    "from map_analyzer.benchmarks import (\n",
    "    maximum_degree,\n",
    "    radius,\n",
    "    number_of_leaves,\n",
    "    diameter,\n",
    "    assortativity,\n",
    "    average_degree,\n",
    "    clustering_coefficient,\n",
    ")  # , face_if_planar\n",
    "from map_analyzer.models import (\n",
    "    real_life_maps,\n",
    "    # triangle_edge_deletion,\n",
    "    flood_fill\n",
    "    # waxman,\n",
    ")\n"
   ]
  },
  {
   "cell_type": "code",
   "execution_count": 4,
   "metadata": {},
   "outputs": [],
   "source": [
    "\n",
    "NUM_ITERS = 1  # INFO: The higher the number of iterations the more accurate the estimates (set to 50 for comparability because we have 50 state maps)\n",
    "SEED = 238  # INFO: Seed to ensure reproducible results"
   ]
  },
  {
   "cell_type": "code",
   "execution_count": 5,
   "metadata": {},
   "outputs": [
    {
     "data": {
      "text/html": [
       "<pre style=\"white-space:pre;overflow-x:auto;line-height:normal;font-family:Menlo,'DejaVu Sans Mono',consolas,'Courier New',monospace\">Loading real life models<span style=\"color: #808000; text-decoration-color: #808000\">...</span>\n",
       "</pre>\n"
      ],
      "text/plain": [
       "Loading real life models\u001b[33m...\u001b[0m\n"
      ]
     },
     "metadata": {},
     "output_type": "display_data"
    },
    {
     "name": "stderr",
     "output_type": "stream",
     "text": [
      "/opt/anaconda3/envs/cs238/lib/python3.10/site-packages/gerrychain/graph/graph.py:388: UserWarning: Found islands (degree-0 nodes). Indices of islands: {5300}\n",
      "  warnings.warn(\n",
      "/opt/anaconda3/envs/cs238/lib/python3.10/site-packages/gerrychain/graph/graph.py:388: UserWarning: Found islands (degree-0 nodes). Indices of islands: {530}\n",
      "  warnings.warn(\n",
      "/opt/anaconda3/envs/cs238/lib/python3.10/site-packages/gerrychain/graph/graph.py:388: UserWarning: Found islands (degree-0 nodes). Indices of islands: {82}\n",
      "  warnings.warn(\n",
      "/opt/anaconda3/envs/cs238/lib/python3.10/site-packages/gerrychain/graph/graph.py:388: UserWarning: Found islands (degree-0 nodes). Indices of islands: {852}\n",
      "  warnings.warn(\n"
     ]
    },
    {
     "data": {
      "text/html": [
       "<pre style=\"white-space:pre;overflow-x:auto;line-height:normal;font-family:Menlo,'DejaVu Sans Mono',consolas,'Courier New',monospace\"><span style=\"color: #008000; text-decoration-color: #008000\">Real life models loaded</span>\n",
       "</pre>\n"
      ],
      "text/plain": [
       "\u001b[32mReal life models loaded\u001b[0m\n"
      ]
     },
     "metadata": {},
     "output_type": "display_data"
    }
   ],
   "source": [
    "console = Console()\n",
    "\n",
    "console.print(\"Loading real life models...\")\n",
    "real_life_model = real_life_maps.RealLifeMaps(\n",
    "    cache_dir=Path(\"../data/maps\"), map_types=[\"TRACT\"]\n",
    ")  # for sampling real-life maps\n",
    "console.print(\"Real life models loaded\", style=\"green\")\n",
    "\n",
    "models_to_test = [\n",
    "    # triangle_edge_deletion.TriangleEdgeDeletionModel(p_delete=0.065, keep_connected=False, deter=False),\n",
    "    # triangle_edge_deletion.TriangleEdgeDeletionModel(p_delete=0.065, keep_connected=True, deter=False),\n",
    "    # triangle_edge_deletion.TriangleEdgeDeletionModel(p_delete=0.065, keep_connected=True, deter=True),\n",
    "    # triangle_edge_deletion.TriangleEdgeDeletionModel(p_delete=0.065, keep_connected=False, deter=True),\n",
    "    flood_fill.FloodFillModel(),\n",
    "    # waxman.WaxmanModel(beta=0.4, alpha=0.1),\n",
    "    # TODO: Add more models\n",
    "]\n"
   ]
  },
  {
   "cell_type": "code",
   "execution_count": 6,
   "metadata": {},
   "outputs": [],
   "source": [
    "benchmarks_to_run = [\n",
    "        assortativity.AssortativityBenchmark(),\n",
    "        average_degree.AverageDegreeBenchmark(),\n",
    "        clustering_coefficient.ClusteringCoefficientBenchmark(),\n",
    "        diameter.DiameterBenchmark(),\n",
    "        maximum_degree.MaximumDegreeBenchmark(),\n",
    "        number_of_leaves.NumberOfLeavesBenchmark(),\n",
    "        radius.RadiusBenchmark(),\n",
    "        # face_if_planar.FaceIfPlanarBenchmark()\n",
    "    ]"
   ]
  },
  {
   "cell_type": "code",
   "execution_count": 8,
   "metadata": {},
   "outputs": [
    {
     "data": {
      "text/html": [
       "<pre style=\"white-space:pre;overflow-x:auto;line-height:normal;font-family:Menlo,'DejaVu Sans Mono',consolas,'Courier New',monospace\">Processing benchmark results<span style=\"color: #808000; text-decoration-color: #808000\">...</span>\n",
       "</pre>\n"
      ],
      "text/plain": [
       "Processing benchmark results\u001b[33m...\u001b[0m\n"
      ]
     },
     "metadata": {},
     "output_type": "display_data"
    },
    {
     "name": "stderr",
     "output_type": "stream",
     "text": [
      "/Users/rheaacharya/Desktop/Spring 2024/CS238/cs238-final-project/src/map_analyzer/models/real_life_maps.py:48: UserWarning: `num_graphs` parameter is ignored by RealLifeMaps model (all loaded maps will be returned).\n",
      "  warnings.warn(\n"
     ]
    },
    {
     "data": {
      "text/html": [
       "<pre style=\"white-space:pre;overflow-x:auto;line-height:normal;font-family:Menlo,'DejaVu Sans Mono',consolas,'Courier New',monospace\">/opt/anaconda3/envs/cs238/lib/python3.10/site-packages/rich/live.py:231: UserWarning: install \"ipywidgets\" for \n",
       "Jupyter support\n",
       "  warnings.warn('install \"ipywidgets\" for Jupyter support')\n",
       "</pre>\n"
      ],
      "text/plain": [
       "/opt/anaconda3/envs/cs238/lib/python3.10/site-packages/rich/live.py:231: UserWarning: install \"ipywidgets\" for \n",
       "Jupyter support\n",
       "  warnings.warn('install \"ipywidgets\" for Jupyter support')\n"
      ]
     },
     "metadata": {},
     "output_type": "display_data"
    },
    {
     "data": {
      "text/html": [
       "<pre style=\"white-space:pre;overflow-x:auto;line-height:normal;font-family:Menlo,'DejaVu Sans Mono',consolas,'Courier New',monospace\">Graph with 4761 nodes and 9384 edges\n",
       "</pre>\n"
      ],
      "text/plain": [
       "Graph with 4761 nodes and 9384 edges\n"
      ]
     },
     "metadata": {},
     "output_type": "display_data"
    },
    {
     "data": {
      "text/html": [
       "<pre style=\"white-space:pre;overflow-x:auto;line-height:normal;font-family:Menlo,'DejaVu Sans Mono',consolas,'Courier New',monospace\">Exception ignored in: &lt;bound method IPythonKernel._clean_thread_parent_frames of &lt;ipykernel.ipkernel.IPythonKernel \n",
       "object at 0x1062a8c70&gt;&gt;\n",
       "</pre>\n"
      ],
      "text/plain": [
       "Exception ignored in: <bound method IPythonKernel._clean_thread_parent_frames of <ipykernel.ipkernel.IPythonKernel \n",
       "object at 0x1062a8c70>>\n"
      ]
     },
     "metadata": {},
     "output_type": "display_data"
    },
    {
     "data": {
      "text/html": [
       "<pre style=\"white-space:pre;overflow-x:auto;line-height:normal;font-family:Menlo,'DejaVu Sans Mono',consolas,'Courier New',monospace\">Traceback (most recent call last):\n",
       "</pre>\n"
      ],
      "text/plain": [
       "Traceback (most recent call last):\n"
      ]
     },
     "metadata": {},
     "output_type": "display_data"
    },
    {
     "data": {
      "text/html": [
       "<pre style=\"white-space:pre;overflow-x:auto;line-height:normal;font-family:Menlo,'DejaVu Sans Mono',consolas,'Courier New',monospace\">  File \"/opt/anaconda3/envs/cs238/lib/python3.10/site-packages/ipykernel/ipkernel.py\", line 770, in \n",
       "_clean_thread_parent_frames\n",
       "</pre>\n"
      ],
      "text/plain": [
       "  File \"/opt/anaconda3/envs/cs238/lib/python3.10/site-packages/ipykernel/ipkernel.py\", line 770, in \n",
       "_clean_thread_parent_frames\n"
      ]
     },
     "metadata": {},
     "output_type": "display_data"
    },
    {
     "data": {
      "text/html": [
       "<pre style=\"white-space:pre;overflow-x:auto;line-height:normal;font-family:Menlo,'DejaVu Sans Mono',consolas,'Courier New',monospace\">    def _clean_thread_parent_frames(\n",
       "</pre>\n"
      ],
      "text/plain": [
       "    def _clean_thread_parent_frames(\n"
      ]
     },
     "metadata": {},
     "output_type": "display_data"
    },
    {
     "data": {
      "text/html": [
       "<pre style=\"white-space:pre;overflow-x:auto;line-height:normal;font-family:Menlo,'DejaVu Sans Mono',consolas,'Courier New',monospace\">KeyboardInterrupt: \n",
       "</pre>\n"
      ],
      "text/plain": [
       "KeyboardInterrupt: \n"
      ]
     },
     "metadata": {},
     "output_type": "display_data"
    }
   ],
   "source": [
    "orchestrator = BenchmarkOrchestrator(benchmarks_to_run)\n",
    "\n",
    "console.print(\"Processing benchmark results...\")\n",
    "benchmark_orchestrator_results = orchestrator.benchmark_null_models_against_real(\n",
    "    real_life_model=real_life_model,\n",
    "    models=models_to_test,\n",
    "    num_iters=NUM_ITERS,  \n",
    "    seed=SEED,\n",
    ")\n",
    "console.print(\"Benchmark results processed\", style=\"green\")"
   ]
  },
  {
   "cell_type": "code",
   "execution_count": 1,
   "metadata": {},
   "outputs": [
    {
     "ename": "NameError",
     "evalue": "name 'benchmark_orchestrator_results' is not defined",
     "output_type": "error",
     "traceback": [
      "\u001b[0;31m---------------------------------------------------------------------------\u001b[0m",
      "\u001b[0;31mNameError\u001b[0m                                 Traceback (most recent call last)",
      "Cell \u001b[0;32mIn[1], line 1\u001b[0m\n\u001b[0;32m----> 1\u001b[0m \u001b[38;5;28;01mfor\u001b[39;00m benchmark_orchestrator_result \u001b[38;5;129;01min\u001b[39;00m \u001b[43mbenchmark_orchestrator_results\u001b[49m:\n\u001b[1;32m      2\u001b[0m         map_metadata \u001b[38;5;241m=\u001b[39m benchmark_orchestrator_result\u001b[38;5;241m.\u001b[39mreal_map_generation\u001b[38;5;241m.\u001b[39mmetadata\n\u001b[1;32m      3\u001b[0m         real_map_benchmarks \u001b[38;5;241m=\u001b[39m benchmark_orchestrator_result\u001b[38;5;241m.\u001b[39mreal_map_benchmarks\n",
      "\u001b[0;31mNameError\u001b[0m: name 'benchmark_orchestrator_results' is not defined"
     ]
    }
   ],
   "source": [
    "for benchmark_orchestrator_result in benchmark_orchestrator_results:\n",
    "        map_metadata = benchmark_orchestrator_result.real_map_generation.metadata\n",
    "        real_map_benchmarks = benchmark_orchestrator_result.real_map_benchmarks\n",
    "        model_benchmarks = benchmark_orchestrator_result.model_benchmarks\n",
    "\n",
    "        root_style = \"bold bright_blue\"\n",
    "        real_life_style = \"bold yellow\"\n",
    "        model_style = \"bold green\"\n",
    "        benchmark_style = \"bold green\"\n",
    "\n",
    "        tree = Tree(\n",
    "            f\"==================== [{map_metadata.map_type}] {map_metadata.state_code} ====================\",\n",
    "            style=root_style,\n",
    "            guide_style=root_style,\n",
    "        )\n",
    "\n",
    "        real_life_branch = tree.add(\n",
    "            \"Real Life Map\", style=real_life_style, guide_style=real_life_style\n",
    "        )\n",
    "\n",
    "        real_life_table = Table()\n",
    "        for benchmark, benchmark_results in zip(benchmarks_to_run, real_map_benchmarks):\n",
    "            benchmark_name = benchmark.__class__.__name__\n",
    "            benchmark.__class__.add_benchmark_metrics_to_table(\n",
    "                real_life_table, benchmark_name, benchmark_results\n",
    "            )\n",
    "        real_life_branch.add(real_life_table)\n",
    "\n",
    "        for model, benchmarks in zip(models_to_test, model_benchmarks):\n",
    "            model_name = model.__class__.__name__\n",
    "            model_branch = tree.add(\n",
    "                model_name, style=model_style, guide_style=model_style\n",
    "            )\n",
    "            model_table = Table()\n",
    "            for benchmark, benchmark_results in zip(benchmarks_to_run, benchmarks):\n",
    "                benchmark_name = benchmark.__class__.__name__\n",
    "                benchmark.__class__.add_benchmark_metrics_to_table(\n",
    "                    model_table, benchmark_name, benchmark_results\n",
    "                )\n",
    "            model_branch.add(model_table)\n",
    "\n",
    "        print(\"1\")\n",
    "        constraints = map_analyzer.benchmark_framework.model_constraint_generator.generate_constraints_from_graph(real_life_model)\n",
    "        print(\"2\")\n",
    "        random.seed(111)\n",
    "        print(\"3\")\n",
    "        model = flood_fill.FloodFillModel()\n",
    "        print(\"4\")\n",
    "        graph_desired = model.generate_graph(constraints)\n",
    "        print(\"5\")\n",
    "        # def save_graph_data(graph_data, filename):\n",
    "        output_dir = Path(\"../data/maps\")\n",
    "        print(\"6\")\n",
    "        output_dir.mkdir(parents=True, exist_ok=True)\n",
    "        print(\"7\")\n",
    "        model_class_name = \"FloodFillModel\"\n",
    "        print(\"8\")\n",
    "        filename = output_dir / f\"{model_class_name}_{map_metadata.state_code}_graph.pkl\"\n",
    "        print(\"9\")\n",
    "        with open(filename, 'wb') as f:\n",
    "            print(\"10\")\n",
    "            pickle.dump(graph_desired, f)\n",
    "\n",
    "        # def load_graph_data(filename):\n",
    "        with open(filename, 'rb') as f:\n",
    "            print(\"11\")\n",
    "            loaded_graph_data = pickle.load(f)\n",
    "  \n",
    "        console.print(tree)"
   ]
  },
  {
   "cell_type": "code",
   "execution_count": 11,
   "metadata": {},
   "outputs": [
    {
     "name": "stdout",
     "output_type": "stream",
     "text": [
      "1\n"
     ]
    },
    {
     "ename": "AttributeError",
     "evalue": "'RealLifeMaps' object has no attribute 'number_of_nodes'",
     "output_type": "error",
     "traceback": [
      "\u001b[0;31m---------------------------------------------------------------------------\u001b[0m",
      "\u001b[0;31mAttributeError\u001b[0m                            Traceback (most recent call last)",
      "Cell \u001b[0;32mIn[11], line 3\u001b[0m\n\u001b[1;32m      1\u001b[0m \u001b[38;5;28;01mfrom\u001b[39;00m \u001b[38;5;21;01mmap_analyzer\u001b[39;00m\u001b[38;5;21;01m.\u001b[39;00m\u001b[38;5;21;01mbenchmark_framework\u001b[39;00m\u001b[38;5;21;01m.\u001b[39;00m\u001b[38;5;21;01mmodel_constraint_generator\u001b[39;00m \u001b[38;5;28;01mimport\u001b[39;00m generate_constraints_from_graph\n\u001b[1;32m      2\u001b[0m \u001b[38;5;28mprint\u001b[39m(\u001b[38;5;124m\"\u001b[39m\u001b[38;5;124m1\u001b[39m\u001b[38;5;124m\"\u001b[39m)\n\u001b[0;32m----> 3\u001b[0m constraints \u001b[38;5;241m=\u001b[39m \u001b[43mgenerate_constraints_from_graph\u001b[49m\u001b[43m(\u001b[49m\u001b[43mreal_life_model\u001b[49m\u001b[43m)\u001b[49m\n\u001b[1;32m      4\u001b[0m \u001b[38;5;28mprint\u001b[39m(\u001b[38;5;124m\"\u001b[39m\u001b[38;5;124m2\u001b[39m\u001b[38;5;124m\"\u001b[39m)\n\u001b[1;32m      5\u001b[0m random\u001b[38;5;241m.\u001b[39mseed(\u001b[38;5;241m111\u001b[39m)\n",
      "File \u001b[0;32m~/Desktop/Spring 2024/CS238/cs238-final-project/src/map_analyzer/benchmark_framework/model_constraint_generator.py:13\u001b[0m, in \u001b[0;36mgenerate_constraints_from_graph\u001b[0;34m(graph)\u001b[0m\n\u001b[1;32m     11\u001b[0m \u001b[38;5;28;01mdef\u001b[39;00m \u001b[38;5;21mgenerate_constraints_from_graph\u001b[39m(graph: Graph) \u001b[38;5;241m-\u001b[39m\u001b[38;5;241m>\u001b[39m ModelConstraints:\n\u001b[1;32m     12\u001b[0m     \u001b[38;5;66;03m# Generate constraints from graph\u001b[39;00m\n\u001b[0;32m---> 13\u001b[0m     num_nodes \u001b[38;5;241m=\u001b[39m \u001b[43mgraph\u001b[49m\u001b[38;5;241;43m.\u001b[39;49m\u001b[43mnumber_of_nodes\u001b[49m()\n\u001b[1;32m     14\u001b[0m     max_edge_length \u001b[38;5;241m=\u001b[39m \u001b[38;5;241m1\u001b[39m  \u001b[38;5;66;03m# TODO: Figure out how to calculate this. It appears that NetoworkX does not inherrently have a position for nodes unless a specific layout is specified.\u001b[39;00m\n\u001b[1;32m     16\u001b[0m     \u001b[38;5;28;01mreturn\u001b[39;00m ModelConstraints(num_nodes\u001b[38;5;241m=\u001b[39mnum_nodes, max_edge_length\u001b[38;5;241m=\u001b[39mmax_edge_length)\n",
      "\u001b[0;31mAttributeError\u001b[0m: 'RealLifeMaps' object has no attribute 'number_of_nodes'"
     ]
    }
   ],
   "source": [
    "from map_analyzer.benchmark_framework.model_constraint_generator import generate_constraints_from_graph\n",
    "print(\"1\")\n",
    "constraints = generate_constraints_from_graph(real_life_model)\n",
    "print(\"2\")\n",
    "random.seed(111)\n",
    "print(\"3\")\n",
    "model = flood_fill.FloodFillModel()\n",
    "print(\"4\")\n",
    "graph_desired = model.generate_graph(constraints)\n",
    "print(\"5\")\n",
    "# def save_graph_data(graph_data, filename):\n",
    "output_dir = Path(\"../data/maps\")\n",
    "print(\"6\")\n",
    "output_dir.mkdir(parents=True, exist_ok=True)\n",
    "print(\"7\")\n",
    "model_class_name = \"FloodFillModel\"\n",
    "print(\"8\")\n",
    "filename = output_dir / f\"{model_class_name}_{map_metadata.state_code}_graph.pkl\"\n",
    "print(\"9\")\n",
    "with open(filename, 'wb') as f:\n",
    "    print(\"10\")\n",
    "    pickle.dump(graph_desired, f)\n",
    "\n",
    "with open(filename, 'rb') as f:\n",
    "            print(\"11\")\n",
    "            loaded_graph_data = pickle.load(f)"
   ]
  }
 ],
 "metadata": {
  "kernelspec": {
   "display_name": "cs238",
   "language": "python",
   "name": "python3"
  },
  "language_info": {
   "codemirror_mode": {
    "name": "ipython",
    "version": 3
   },
   "file_extension": ".py",
   "mimetype": "text/x-python",
   "name": "python",
   "nbconvert_exporter": "python",
   "pygments_lexer": "ipython3",
   "version": "3.10.14"
  }
 },
 "nbformat": 4,
 "nbformat_minor": 2
}
